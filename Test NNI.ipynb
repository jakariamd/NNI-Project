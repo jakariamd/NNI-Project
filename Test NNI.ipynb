{
 "cells": [
  {
   "cell_type": "code",
   "execution_count": 1,
   "id": "57476e17",
   "metadata": {},
   "outputs": [
    {
     "name": "stdout",
     "output_type": "stream",
     "text": [
      "TorchModel(\n",
      "  (conv1): Conv2d(1, 6, kernel_size=(5, 5), stride=(1, 1))\n",
      "  (conv2): Conv2d(6, 16, kernel_size=(5, 5), stride=(1, 1))\n",
      "  (fc1): Linear(in_features=256, out_features=120, bias=True)\n",
      "  (fc2): Linear(in_features=120, out_features=84, bias=True)\n",
      "  (fc3): Linear(in_features=84, out_features=10, bias=True)\n",
      "  (relu1): ReLU()\n",
      "  (relu2): ReLU()\n",
      "  (relu3): ReLU()\n",
      "  (relu4): ReLU()\n",
      "  (pool1): MaxPool2d(kernel_size=(2, 2), stride=(2, 2), padding=0, dilation=1, ceil_mode=False)\n",
      "  (pool2): MaxPool2d(kernel_size=(2, 2), stride=(2, 2), padding=0, dilation=1, ceil_mode=False)\n",
      ")\n"
     ]
    }
   ],
   "source": [
    "import torch\n",
    "import torch.nn.functional as F\n",
    "from torch.optim import SGD\n",
    "\n",
    "from compression_mnist_model import TorchModel, trainer, evaluator, device\n",
    "\n",
    "# define the model\n",
    "model = TorchModel().to(device)\n",
    "\n",
    "# show the model stbructure, note that pruner will wrap the model layer.\n",
    "print(model)"
   ]
  },
  {
   "cell_type": "code",
   "execution_count": 2,
   "id": "411170c1",
   "metadata": {},
   "outputs": [
    {
     "name": "stdout",
     "output_type": "stream",
     "text": [
      "Average test loss: 0.5026, Accuracy: 8349/10000 (83%)\n",
      "Average test loss: 0.2363, Accuracy: 9292/10000 (93%)\n",
      "Average test loss: 0.1635, Accuracy: 9511/10000 (95%)\n"
     ]
    }
   ],
   "source": [
    "# define the optimizer and criterion for pre-training\n",
    "\n",
    "optimizer = SGD(model.parameters(), 1e-2)\n",
    "criterion = F.nll_loss\n",
    "\n",
    "# pre-train and evaluate the model on MNIST dataset\n",
    "for epoch in range(3):\n",
    "    trainer(model, optimizer, criterion)\n",
    "    evaluator(model)"
   ]
  },
  {
   "cell_type": "code",
   "execution_count": 3,
   "id": "e0338505",
   "metadata": {},
   "outputs": [],
   "source": [
    "config_list = [{\n",
    "    'sparsity_per_layer': 0.5,\n",
    "    'op_types': ['Linear', 'Conv2d']\n",
    "}, {\n",
    "    'exclude': True,\n",
    "    'op_names': ['fc3']\n",
    "}]"
   ]
  },
  {
   "cell_type": "code",
   "execution_count": 4,
   "id": "d41042bd",
   "metadata": {},
   "outputs": [
    {
     "name": "stdout",
     "output_type": "stream",
     "text": [
      "TorchModel(\n",
      "  (conv1): PrunerModuleWrapper(\n",
      "    (module): Conv2d(1, 6, kernel_size=(5, 5), stride=(1, 1))\n",
      "  )\n",
      "  (conv2): PrunerModuleWrapper(\n",
      "    (module): Conv2d(6, 16, kernel_size=(5, 5), stride=(1, 1))\n",
      "  )\n",
      "  (fc1): PrunerModuleWrapper(\n",
      "    (module): Linear(in_features=256, out_features=120, bias=True)\n",
      "  )\n",
      "  (fc2): PrunerModuleWrapper(\n",
      "    (module): Linear(in_features=120, out_features=84, bias=True)\n",
      "  )\n",
      "  (fc3): Linear(in_features=84, out_features=10, bias=True)\n",
      "  (relu1): ReLU()\n",
      "  (relu2): ReLU()\n",
      "  (relu3): ReLU()\n",
      "  (relu4): ReLU()\n",
      "  (pool1): MaxPool2d(kernel_size=(2, 2), stride=(2, 2), padding=0, dilation=1, ceil_mode=False)\n",
      "  (pool2): MaxPool2d(kernel_size=(2, 2), stride=(2, 2), padding=0, dilation=1, ceil_mode=False)\n",
      ")\n"
     ]
    }
   ],
   "source": [
    "from nni.compression.pytorch.pruning import L1NormPruner\n",
    "pruner = L1NormPruner(model, config_list)\n",
    "\n",
    "# show the wrapped model structure, `PrunerModuleWrapper` have wrapped the layers that configured in the config_list.\n",
    "print(model)"
   ]
  },
  {
   "cell_type": "code",
   "execution_count": 5,
   "id": "85e2a586",
   "metadata": {},
   "outputs": [
    {
     "name": "stdout",
     "output_type": "stream",
     "text": [
      "conv1  sparsity :  0.5\n",
      "conv2  sparsity :  0.5\n",
      "fc1  sparsity :  0.5\n",
      "fc2  sparsity :  0.5\n"
     ]
    }
   ],
   "source": [
    "# compress the model and generate the masks\n",
    "_, masks = pruner.compress()\n",
    "# show the masks sparsity\n",
    "for name, mask in masks.items():\n",
    "    print(name, ' sparsity : ', '{:.2}'.format(mask['weight'].sum() / mask['weight'].numel()))"
   ]
  },
  {
   "cell_type": "code",
   "execution_count": 6,
   "id": "c6f12091",
   "metadata": {},
   "outputs": [
    {
     "name": "stdout",
     "output_type": "stream",
     "text": [
      "[2022-10-01 23:16:05] \u001b[32mstart to speedup the model\u001b[0m\n",
      "[2022-10-01 23:16:06] \u001b[32minfer module masks...\u001b[0m\n",
      "[2022-10-01 23:16:06] \u001b[32mUpdate mask for conv1\u001b[0m\n",
      "[2022-10-01 23:16:06] \u001b[32mUpdate mask for relu1\u001b[0m\n",
      "[2022-10-01 23:16:06] \u001b[32mUpdate mask for pool1\u001b[0m\n",
      "[2022-10-01 23:16:06] \u001b[32mUpdate mask for conv2\u001b[0m\n",
      "[2022-10-01 23:16:06] \u001b[32mUpdate mask for relu2\u001b[0m\n",
      "[2022-10-01 23:16:06] \u001b[32mUpdate mask for pool2\u001b[0m\n",
      "[2022-10-01 23:16:06] \u001b[32mUpdate mask for .aten::flatten.11\u001b[0m\n",
      "[2022-10-01 23:16:06] \u001b[32mUpdate mask for fc1\u001b[0m\n",
      "[2022-10-01 23:16:06] \u001b[32mUpdate mask for relu3\u001b[0m\n",
      "[2022-10-01 23:16:06] \u001b[32mUpdate mask for fc2\u001b[0m\n",
      "[2022-10-01 23:16:06] \u001b[32mUpdate mask for relu4\u001b[0m\n",
      "[2022-10-01 23:16:06] \u001b[32mUpdate mask for fc3\u001b[0m\n",
      "[2022-10-01 23:16:06] \u001b[32mUpdate mask for .aten::log_softmax.12\u001b[0m\n",
      "[2022-10-01 23:16:06] \u001b[32mUpdate the indirect sparsity for the .aten::log_softmax.12\u001b[0m\n",
      "[2022-10-01 23:16:06] \u001b[32mUpdate the indirect sparsity for the fc3\u001b[0m\n",
      "[2022-10-01 23:16:06] \u001b[32mUpdate the indirect sparsity for the relu4\u001b[0m\n",
      "[2022-10-01 23:16:06] \u001b[32mUpdate the indirect sparsity for the fc2\u001b[0m\n",
      "[2022-10-01 23:16:06] \u001b[32mUpdate the indirect sparsity for the relu3\u001b[0m\n",
      "[2022-10-01 23:16:06] \u001b[32mUpdate the indirect sparsity for the fc1\u001b[0m\n",
      "[2022-10-01 23:16:06] \u001b[32mUpdate the indirect sparsity for the .aten::flatten.11\u001b[0m\n",
      "[2022-10-01 23:16:06] \u001b[32mUpdate the indirect sparsity for the pool2\u001b[0m\n",
      "[2022-10-01 23:16:06] \u001b[32mUpdate the indirect sparsity for the relu2\u001b[0m\n",
      "[2022-10-01 23:16:06] \u001b[32mUpdate the indirect sparsity for the conv2\u001b[0m\n",
      "[2022-10-01 23:16:06] \u001b[32mUpdate the indirect sparsity for the pool1\u001b[0m\n",
      "[2022-10-01 23:16:06] \u001b[32mUpdate the indirect sparsity for the relu1\u001b[0m\n",
      "[2022-10-01 23:16:06] \u001b[32mUpdate the indirect sparsity for the conv1\u001b[0m\n",
      "[2022-10-01 23:16:06] \u001b[32mresolve the mask conflict\u001b[0m\n",
      "[2022-10-01 23:16:06] \u001b[32mreplace compressed modules...\u001b[0m\n",
      "[2022-10-01 23:16:06] \u001b[32mreplace module (name: conv1, op_type: Conv2d)\u001b[0m\n",
      "[2022-10-01 23:16:06] \u001b[32mreplace module (name: relu1, op_type: ReLU)\u001b[0m\n",
      "[2022-10-01 23:16:06] \u001b[32mreplace module (name: pool1, op_type: MaxPool2d)\u001b[0m\n",
      "[2022-10-01 23:16:06] \u001b[32mreplace module (name: conv2, op_type: Conv2d)\u001b[0m\n",
      "[2022-10-01 23:16:06] \u001b[32mreplace module (name: relu2, op_type: ReLU)\u001b[0m\n",
      "[2022-10-01 23:16:06] \u001b[32mreplace module (name: pool2, op_type: MaxPool2d)\u001b[0m\n",
      "[2022-10-01 23:16:06] \u001b[32mreplace module (name: fc1, op_type: Linear)\u001b[0m\n",
      "[2022-10-01 23:16:06] \u001b[32mreplace linear with new in_features: 128, out_features: 60\u001b[0m\n",
      "[2022-10-01 23:16:06] \u001b[32mreplace module (name: relu3, op_type: ReLU)\u001b[0m\n",
      "[2022-10-01 23:16:06] \u001b[32mreplace module (name: fc2, op_type: Linear)\u001b[0m\n",
      "[2022-10-01 23:16:06] \u001b[32mreplace linear with new in_features: 60, out_features: 42\u001b[0m\n",
      "[2022-10-01 23:16:06] \u001b[32mreplace module (name: relu4, op_type: ReLU)\u001b[0m\n",
      "[2022-10-01 23:16:06] \u001b[32mreplace module (name: fc3, op_type: Linear)\u001b[0m\n",
      "[2022-10-01 23:16:06] \u001b[32mreplace linear with new in_features: 42, out_features: 10\u001b[0m\n",
      "[2022-10-01 23:16:06] \u001b[32mspeedup done\u001b[0m\n"
     ]
    },
    {
     "name": "stderr",
     "output_type": "stream",
     "text": [
      "/home/jakaria/.local/lib/python3.10/site-packages/torch/_tensor.py:1083: UserWarning: The .grad attribute of a Tensor that is not a leaf Tensor is being accessed. Its .grad attribute won't be populated during autograd.backward(). If you indeed want the .grad field to be populated for a non-leaf Tensor, use .retain_grad() on the non-leaf Tensor. If you access the non-leaf Tensor by mistake, make sure you access the leaf Tensor instead. See github.com/pytorch/pytorch/pull/30531 for more informations. (Triggered internally at  aten/src/ATen/core/TensorBody.h:482.)\n",
      "  return self._grad\n"
     ]
    }
   ],
   "source": [
    "# need to unwrap the model, if the model is wrapped before speedup\n",
    "pruner._unwrap_model()\n",
    "\n",
    "# speedup the model, for more information about speedup, please refer :doc:`pruning_speedup`.\n",
    "from nni.compression.pytorch.speedup import ModelSpeedup\n",
    "\n",
    "ModelSpeedup(model, torch.rand(3, 1, 28, 28).to(device), masks).speedup_model()"
   ]
  },
  {
   "cell_type": "code",
   "execution_count": 7,
   "id": "2894dfc7",
   "metadata": {},
   "outputs": [
    {
     "name": "stdout",
     "output_type": "stream",
     "text": [
      "TorchModel(\n",
      "  (conv1): Conv2d(1, 3, kernel_size=(5, 5), stride=(1, 1))\n",
      "  (conv2): Conv2d(3, 8, kernel_size=(5, 5), stride=(1, 1))\n",
      "  (fc1): Linear(in_features=128, out_features=60, bias=True)\n",
      "  (fc2): Linear(in_features=60, out_features=42, bias=True)\n",
      "  (fc3): Linear(in_features=42, out_features=10, bias=True)\n",
      "  (relu1): ReLU()\n",
      "  (relu2): ReLU()\n",
      "  (relu3): ReLU()\n",
      "  (relu4): ReLU()\n",
      "  (pool1): MaxPool2d(kernel_size=(2, 2), stride=(2, 2), padding=0, dilation=1, ceil_mode=False)\n",
      "  (pool2): MaxPool2d(kernel_size=(2, 2), stride=(2, 2), padding=0, dilation=1, ceil_mode=False)\n",
      ")\n"
     ]
    }
   ],
   "source": [
    "print(model)"
   ]
  },
  {
   "cell_type": "code",
   "execution_count": 9,
   "id": "a32462e3",
   "metadata": {},
   "outputs": [
    {
     "name": "stdout",
     "output_type": "stream",
     "text": [
      "Average test loss: 0.1230, Accuracy: 9619/10000 (96%)\n",
      "Average test loss: 0.0890, Accuracy: 9725/10000 (97%)\n",
      "Average test loss: 0.1049, Accuracy: 9681/10000 (97%)\n"
     ]
    }
   ],
   "source": [
    "optimizer = SGD(model.parameters(), 1e-2)\n",
    "for epoch in range(3):\n",
    "    trainer(model, optimizer, criterion)\n",
    "    evaluator(model)"
   ]
  },
  {
   "cell_type": "code",
   "execution_count": null,
   "id": "9fd386e5",
   "metadata": {},
   "outputs": [],
   "source": []
  }
 ],
 "metadata": {
  "kernelspec": {
   "display_name": "Python 3 (ipykernel)",
   "language": "python",
   "name": "python3"
  },
  "language_info": {
   "codemirror_mode": {
    "name": "ipython",
    "version": 3
   },
   "file_extension": ".py",
   "mimetype": "text/x-python",
   "name": "python",
   "nbconvert_exporter": "python",
   "pygments_lexer": "ipython3",
   "version": "3.10.6"
  }
 },
 "nbformat": 4,
 "nbformat_minor": 5
}
